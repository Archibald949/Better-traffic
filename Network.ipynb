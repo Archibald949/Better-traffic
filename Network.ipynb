{
 "cells": [
  {
   "cell_type": "markdown",
   "id": "253aac14-1d27-442b-a4ab-83cf3dd54660",
   "metadata": {
    "tags": []
   },
   "source": [
    "## date analyst\n"
   ]
  },
  {
   "cell_type": "markdown",
   "id": "6a2af368-ad8f-4494-bb9a-1f691ca8b310",
   "metadata": {
    "tags": []
   },
   "source": [
    "### проверка и чистка данных"
   ]
  },
  {
   "cell_type": "code",
   "execution_count": 1,
   "id": "aa2f89fa-4d63-474b-a16e-117f47325863",
   "metadata": {},
   "outputs": [],
   "source": [
    "import joblib\n",
    "import pandas as pd\n",
    "import missingno as msno\n",
    "import seaborn as sns\n",
    "import matplotlib.pyplot as plt\n",
    "import pickle\n",
    "import numpy as np\n",
    "\n",
    "from sklearn.impute import SimpleImputer\n",
    "from sklearn.preprocessing import OneHotEncoder\n",
    "from sklearn.compose import ColumnTransformer\n",
    "from sklearn.model_selection import cross_val_score\n",
    "from scipy import stats\n",
    "from scipy.stats import ttest_ind\n",
    "from scipy.stats import mannwhitneyu"
   ]
  },
  {
   "cell_type": "code",
   "execution_count": 2,
   "id": "eddb7d02-09ce-4036-8c45-ca92d908b732",
   "metadata": {},
   "outputs": [],
   "source": [
    "# читаем CSV файлы\n",
    "ga_hits_001_df = pd.read_csv(\"fin_work/ga_hits-001.csv\", low_memory=False)\n",
    "ga_sessions_df = pd.read_csv(\"fin_work/ga_sessions.csv\", low_memory=False)\n",
    "\n",
    "# читаем pkl файлы\n",
    "with open(\"fin_work/ga_hits-002.pkl\", \"rb\") as f:\n",
    "    ga_hits_002_df = pickle.load(f)\n",
    "with open(\"fin_work/ga_sessions.pkl\", \"rb\") as f:\n",
    "    ga_sessions_pkl_df = pickle.load(f)\n"
   ]
  },
  {
   "cell_type": "code",
   "execution_count": 3,
   "id": "82f7a5f8-a7a7-4f2d-86e7-40ac3e6fe234",
   "metadata": {},
   "outputs": [],
   "source": [
    "# объединяем в датафрейм\n",
    "sessions_df = pd.concat([ga_sessions_df, ga_sessions_pkl_df], ignore_index=True)\n",
    "hits_df = pd.concat([ga_hits_001_df, ga_hits_002_df], ignore_index=True)\n"
   ]
  },
  {
   "cell_type": "code",
   "execution_count": 4,
   "id": "c896ce19-7706-422a-ab95-9aad5d69dc80",
   "metadata": {},
   "outputs": [
    {
     "data": {
      "text/plain": [
       "0"
      ]
     },
     "execution_count": 4,
     "metadata": {},
     "output_type": "execute_result"
    }
   ],
   "source": [
    "# определяем кол-во дубликатов\n",
    "sessions_df.duplicated().sum()"
   ]
  },
  {
   "cell_type": "code",
   "execution_count": 5,
   "id": "1961e2c4-04f9-4c49-ac1d-7b80d40f0935",
   "metadata": {},
   "outputs": [
    {
     "data": {
      "text/plain": [
       "0"
      ]
     },
     "execution_count": 5,
     "metadata": {},
     "output_type": "execute_result"
    }
   ],
   "source": [
    "hits_df.duplicated().sum()"
   ]
  },
  {
   "cell_type": "code",
   "execution_count": 6,
   "id": "ebbbc270-9550-450c-bdea-4a80a4f29de2",
   "metadata": {},
   "outputs": [
    {
     "data": {
      "text/plain": [
       "session_id                        0\n",
       "client_id                         0\n",
       "visit_date                        0\n",
       "visit_time                        0\n",
       "visit_number                      0\n",
       "utm_source                      194\n",
       "utm_medium                        0\n",
       "utm_campaign                 439206\n",
       "utm_adcontent                671230\n",
       "utm_keyword                 2164122\n",
       "device_category                   0\n",
       "device_os                   2140276\n",
       "device_brand                 485856\n",
       "device_model                3687408\n",
       "device_screen_resolution          0\n",
       "device_browser                    0\n",
       "geo_country                       0\n",
       "geo_city                          0\n",
       "dtype: int64"
      ]
     },
     "execution_count": 6,
     "metadata": {},
     "output_type": "execute_result"
    }
   ],
   "source": [
    "# определяем кол-во пропусков\n",
    "sessions_df.isnull().sum()"
   ]
  },
  {
   "cell_type": "code",
   "execution_count": 7,
   "id": "fd623d4f-03c5-4e14-8e91-106ec73bd052",
   "metadata": {},
   "outputs": [
    {
     "data": {
      "text/plain": [
       "session_id               0\n",
       "hit_date                 0\n",
       "hit_time          18320644\n",
       "hit_number               0\n",
       "hit_type                 0\n",
       "hit_referer       12549608\n",
       "hit_page_path            0\n",
       "event_category           0\n",
       "event_action             0\n",
       "event_label        7520368\n",
       "event_value       31452940\n",
       "dtype: int64"
      ]
     },
     "execution_count": 7,
     "metadata": {},
     "output_type": "execute_result"
    }
   ],
   "source": [
    "hits_df.isnull().sum()"
   ]
  },
  {
   "cell_type": "code",
   "execution_count": 8,
   "id": "4ec1ed71-22e5-4ed5-a4b5-6b093f2ade37",
   "metadata": {},
   "outputs": [
    {
     "name": "stdout",
     "output_type": "stream",
     "text": [
      "Процент пропущенных значений sessions_df: \n",
      " device_model                99.121633\n",
      "utm_keyword                 58.174009\n",
      "device_os                   57.533002\n",
      "utm_adcontent               18.043410\n",
      "device_brand                13.060350\n",
      "utm_campaign                11.806346\n",
      "utm_source                   0.005215\n",
      "geo_country                  0.000000\n",
      "device_browser               0.000000\n",
      "device_screen_resolution     0.000000\n",
      "session_id                   0.000000\n",
      "device_category              0.000000\n",
      "client_id                    0.000000\n",
      "utm_medium                   0.000000\n",
      "visit_number                 0.000000\n",
      "visit_time                   0.000000\n",
      "visit_date                   0.000000\n",
      "geo_city                     0.000000\n",
      "dtype: float64\n"
     ]
    }
   ],
   "source": [
    "missing_values = ((sessions_df.isna().sum() / len(sessions_df)) * 100).sort_values(ascending=False)\n",
    "print('Процент пропущенных значений sessions_df:', '\\n', missing_values)"
   ]
  },
  {
   "cell_type": "code",
   "execution_count": 9,
   "id": "4da6a8e7-c3ea-4446-8c5d-179eb3d3d1ad",
   "metadata": {},
   "outputs": [
    {
     "name": "stdout",
     "output_type": "stream",
     "text": [
      "Процент пропущенных значений hits_df: \n",
      " event_value       100.000000\n",
      "hit_time           58.247795\n",
      "hit_referer        39.899634\n",
      "event_label        23.909905\n",
      "session_id          0.000000\n",
      "hit_date            0.000000\n",
      "hit_number          0.000000\n",
      "hit_type            0.000000\n",
      "hit_page_path       0.000000\n",
      "event_category      0.000000\n",
      "event_action        0.000000\n",
      "dtype: float64\n"
     ]
    }
   ],
   "source": [
    "missing_values = ((hits_df.isna().sum() / len(hits_df)) * 100).sort_values(ascending=False)\n",
    "print('Процент пропущенных значений hits_df:', '\\n', missing_values)"
   ]
  },
  {
   "cell_type": "code",
   "execution_count": null,
   "id": "d8894dd0-f391-4f2f-ad53-c063dc9d7fe1",
   "metadata": {},
   "outputs": [],
   "source": [
    "msno.matrix(sessions_df)"
   ]
  },
  {
   "cell_type": "code",
   "execution_count": null,
   "id": "56dc8d22-7c1f-4bc6-957f-b6e5d1f8ce30",
   "metadata": {},
   "outputs": [],
   "source": [
    "msno.matrix(hits_df)"
   ]
  },
  {
   "cell_type": "code",
   "execution_count": 10,
   "id": "21bb2b77-2f7f-43d1-aa8e-cec568f80bb2",
   "metadata": {},
   "outputs": [],
   "source": [
    "# удаляем неинформативные колонки\n",
    "hits = hits_df.copy()\n",
    "hits.drop(columns=['event_value', 'hit_time', 'hit_referer', 'event_label'], inplace=True)"
   ]
  },
  {
   "cell_type": "code",
   "execution_count": 11,
   "id": "8a9ce4af-c35f-45d4-a47a-7d5632d833ed",
   "metadata": {},
   "outputs": [
    {
     "data": {
      "text/plain": [
       "session_id        0\n",
       "hit_date          0\n",
       "hit_number        0\n",
       "hit_type          0\n",
       "hit_page_path     0\n",
       "event_category    0\n",
       "event_action      0\n",
       "dtype: int64"
      ]
     },
     "execution_count": 11,
     "metadata": {},
     "output_type": "execute_result"
    }
   ],
   "source": [
    "hits.isnull().sum()"
   ]
  },
  {
   "cell_type": "code",
   "execution_count": 12,
   "id": "85838699-470f-484d-ad60-c07e902a0ac2",
   "metadata": {},
   "outputs": [
    {
     "name": "stdout",
     "output_type": "stream",
     "text": [
      "кол-во пропусков в utm_adcontent 0\n",
      "кол-во пропусков в device_brand 0\n",
      "кол-во пропусков в utm_campaign 0\n",
      "кол-во пропусков в utm_source 0\n"
     ]
    }
   ],
   "source": [
    "# Заменяем отсутствующие значения в каждом столбце на моду и удаляем неинформативные колонки\n",
    "sessions = sessions_df.copy()\n",
    "\n",
    "sessions.drop(columns=['device_model', 'utm_keyword', 'device_os'], inplace=True)\n",
    "\n",
    "for col in ['utm_adcontent', 'device_brand', 'utm_campaign', 'utm_source']:\n",
    "    mode_value = sessions[col].mode()[0]  # Получаем моду для текущего столбца\n",
    "    sessions[col].fillna(mode_value, inplace=True)  # Заменяем отсутствующие значения на моду\n",
    "\n",
    "print(\"кол-во пропусков в utm_adcontent\", sessions.utm_adcontent.isna().sum())\n",
    "print(\"кол-во пропусков в device_brand\", sessions.device_brand.isna().sum())\n",
    "print(\"кол-во пропусков в utm_campaign\", sessions.utm_campaign.isna().sum())\n",
    "print(\"кол-во пропусков в utm_source\", sessions.utm_source.isna().sum())"
   ]
  },
  {
   "cell_type": "code",
   "execution_count": 13,
   "id": "f5d3dd2f-0952-4101-aafa-b68c217e9708",
   "metadata": {},
   "outputs": [
    {
     "data": {
      "text/plain": [
       "session_id                  0\n",
       "client_id                   0\n",
       "visit_date                  0\n",
       "visit_time                  0\n",
       "visit_number                0\n",
       "utm_source                  0\n",
       "utm_medium                  0\n",
       "utm_campaign                0\n",
       "utm_adcontent               0\n",
       "device_category             0\n",
       "device_brand                0\n",
       "device_screen_resolution    0\n",
       "device_browser              0\n",
       "geo_country                 0\n",
       "geo_city                    0\n",
       "dtype: int64"
      ]
     },
     "execution_count": 13,
     "metadata": {},
     "output_type": "execute_result"
    }
   ],
   "source": [
    "sessions.isnull().sum()"
   ]
  },
  {
   "cell_type": "code",
   "execution_count": 14,
   "id": "9da076a3-58d6-45fe-a792-119b5700311b",
   "metadata": {},
   "outputs": [
    {
     "data": {
      "text/plain": [
       "False"
      ]
     },
     "execution_count": 14,
     "metadata": {},
     "output_type": "execute_result"
    }
   ],
   "source": [
    "sessions.isnull().values.any()"
   ]
  },
  {
   "cell_type": "code",
   "execution_count": 15,
   "id": "6c7b4503-06ff-43e0-b243-9f14f83f5090",
   "metadata": {},
   "outputs": [
    {
     "data": {
      "text/plain": [
       "False"
      ]
     },
     "execution_count": 15,
     "metadata": {},
     "output_type": "execute_result"
    }
   ],
   "source": [
    "hits.isnull().values.any()"
   ]
  },
  {
   "cell_type": "code",
   "execution_count": 16,
   "id": "ad6e5dc0-319e-4371-b219-80af3978ca47",
   "metadata": {},
   "outputs": [
    {
     "data": {
      "image/png": "[encoded data removed]",
      "text/plain": [
       "<Figure size 1000x600 with 1 Axes>"
      ]
     },
     "metadata": {},
     "output_type": "display_data"
    }
   ],
   "source": [
    "# Распределение ключевых атрибутов\n",
    "plt.figure(figsize=(10, 6))\n",
    "sns.countplot(x='device_category', data=sessions)\n",
    "plt.title('Распределение устройств по категориям')\n",
    "plt.xlabel('Категория устройства')\n",
    "plt.ylabel('Count')\n",
    "plt.show()"
   ]
  },
  {
   "cell_type": "code",
   "execution_count": 14,
   "id": "19f655f9-3e46-4e71-82b8-a1c9f6b86dc2",
   "metadata": {},
   "outputs": [],
   "source": [
    "target_actions = hits[hits['event_action'].isin(['sub_car_claim_click', 'sub_car_claim_submit_click', 'sub_open_dialog_click',\n",
    "                                                 'sub_custom_question_submit_click', 'sub_call_number_click',\n",
    "                                                 'sub_callback_submit_click', 'sub_submit_success',\n",
    "                                                 'sub_car_request_submit_click'])].groupby('session_id').size().reset_index(name='target_actions')\n",
    "\n",
    "# Объединяем целевые действия с DataFrame\n",
    "sessions = pd.merge(sessions, target_actions, how='left', on='session_id')\n"
   ]
  },
  {
   "cell_type": "code",
   "execution_count": 15,
   "id": "83fa490b-9ee8-4403-8602-4ed8d3c52722",
   "metadata": {},
   "outputs": [],
   "source": [
    "sessions['target_actions'].fillna(0, inplace=True)\n"
   ]
  },
  {
   "cell_type": "code",
   "execution_count": 16,
   "id": "6a42b95d-eec2-4e34-a932-980bf788ae79",
   "metadata": {},
   "outputs": [],
   "source": [
    "# Рассчитываем коэффициент конверсии\n",
    "sessions['CR'] = sessions['target_actions'] / sessions['visit_number']"
   ]
  },
  {
   "cell_type": "code",
   "execution_count": 20,
   "id": "08a84747-5c12-47af-bc88-f77b1ec1d02a",
   "metadata": {},
   "outputs": [
    {
     "data": {
      "image/png": "[encoded data removed]",
      "text/plain": [
       "<Figure size 1000x600 with 1 Axes>"
      ]
     },
     "metadata": {},
     "output_type": "display_data"
    }
   ],
   "source": [
    "# Взаимосвязь между категорией устройства и коэффициентом конверсии\n",
    "plt.figure(figsize=(10, 6))\n",
    "sns.boxplot(x='device_category', y='CR', data=sessions)\n",
    "plt.title('Коэффициент конверсии по категориям устройств')\n",
    "plt.xlabel('Категория устройства')\n",
    "plt.ylabel('Коэффициент конверсии')\n",
    "plt.show()\n"
   ]
  },
  {
   "cell_type": "code",
   "execution_count": 21,
   "id": "408e6e1a-416f-4b8d-a36f-6ea2968a3fc4",
   "metadata": {},
   "outputs": [
    {
     "name": "stdout",
     "output_type": "stream",
     "text": [
      "mobile     2949742\n",
      "desktop     733726\n",
      "tablet       36616\n",
      "Name: device_category, dtype: int64\n"
     ]
    }
   ],
   "source": [
    "device_category_counts = sessions['device_category'].value_counts()\n",
    "print(device_category_counts)\n"
   ]
  },
  {
   "cell_type": "code",
   "execution_count": 17,
   "id": "ceba255a-646c-4905-b8eb-4922fcaeec1a",
   "metadata": {},
   "outputs": [
    {
     "data": {
      "text/plain": [
       "OneHotEncoder(sparse=False)"
      ]
     },
     "execution_count": 17,
     "metadata": {},
     "output_type": "execute_result"
    }
   ],
   "source": [
    "sessions_1 = sessions.copy()\n",
    "ohe = OneHotEncoder(sparse=False)\n",
    "ohe"
   ]
  },
  {
   "cell_type": "code",
   "execution_count": 18,
   "id": "2d6042ba-fb9d-44e8-8a4c-273f6b66d618",
   "metadata": {},
   "outputs": [
    {
     "data": {
      "text/plain": [
       "OneHotEncoder(sparse=False)"
      ]
     },
     "execution_count": 18,
     "metadata": {},
     "output_type": "execute_result"
    }
   ],
   "source": [
    "ohe.fit(sessions_1[['device_category']])"
   ]
  },
  {
   "cell_type": "code",
   "execution_count": 19,
   "id": "117573bd-1206-4dd9-b396-31dc0190ec4a",
   "metadata": {},
   "outputs": [
    {
     "data": {
      "text/plain": [
       "array([[0., 1., 0.],\n",
       "       [0., 1., 0.],\n",
       "       [0., 1., 0.],\n",
       "       ...,\n",
       "       [0., 1., 0.],\n",
       "       [0., 1., 0.],\n",
       "       [1., 0., 0.]])"
      ]
     },
     "execution_count": 19,
     "metadata": {},
     "output_type": "execute_result"
    }
   ],
   "source": [
    "ohe_device_category = ohe.transform(sessions_1[['device_category']])\n",
    "ohe_device_category"
   ]
  },
  {
   "cell_type": "code",
   "execution_count": 20,
   "id": "d3f9463f-e389-44ef-994e-f8c8aec9fc0d",
   "metadata": {},
   "outputs": [
    {
     "data": {
      "text/plain": [
       "array(['device_category_desktop', 'device_category_mobile',\n",
       "       'device_category_tablet'], dtype=object)"
      ]
     },
     "execution_count": 20,
     "metadata": {},
     "output_type": "execute_result"
    }
   ],
   "source": [
    "ohe.get_feature_names_out()"
   ]
  },
  {
   "cell_type": "code",
   "execution_count": 21,
   "id": "8035ed28-e04a-4825-a102-eb4af9158022",
   "metadata": {},
   "outputs": [],
   "source": [
    "sessions_1[ohe.get_feature_names_out()] = ohe_device_category"
   ]
  },
  {
   "cell_type": "code",
   "execution_count": 77,
   "id": "feb6c040-0b9a-4f39-b456-16cef1cb996b",
   "metadata": {},
   "outputs": [
    {
     "data": {
      "text/html": [
       "<div>\n",
       "<style scoped>\n",
       "    .dataframe tbody tr th:only-of-type {\n",
       "        vertical-align: middle;\n",
       "    }\n",
       "\n",
       "    .dataframe tbody tr th {\n",
       "        vertical-align: top;\n",
       "    }\n",
       "\n",
       "    .dataframe thead th {\n",
       "        text-align: right;\n",
       "    }\n",
       "</style>\n",
       "<table border=\"1\" class=\"dataframe\">\n",
       "  <thead>\n",
       "    <tr style=\"text-align: right;\">\n",
       "      <th></th>\n",
       "      <th>session_id</th>\n",
       "      <th>client_id</th>\n",
       "      <th>visit_date</th>\n",
       "      <th>visit_time</th>\n",
       "      <th>visit_number</th>\n",
       "      <th>utm_source</th>\n",
       "      <th>utm_medium</th>\n",
       "      <th>utm_campaign</th>\n",
       "      <th>utm_adcontent</th>\n",
       "      <th>device_category</th>\n",
       "      <th>device_brand</th>\n",
       "      <th>device_screen_resolution</th>\n",
       "      <th>device_browser</th>\n",
       "      <th>geo_country</th>\n",
       "      <th>geo_city</th>\n",
       "      <th>target_actions</th>\n",
       "      <th>CR</th>\n",
       "      <th>device_category_desktop</th>\n",
       "      <th>device_category_mobile</th>\n",
       "      <th>device_category_tablet</th>\n",
       "    </tr>\n",
       "  </thead>\n",
       "  <tbody>\n",
       "    <tr>\n",
       "      <th>0</th>\n",
       "      <td>9055434745589932991.1637753792.1637753792</td>\n",
       "      <td>2108382700.1637753791</td>\n",
       "      <td>2021-11-24</td>\n",
       "      <td>14:36:32</td>\n",
       "      <td>1</td>\n",
       "      <td>ZpYIoDJMcFzVoPFsHGJL</td>\n",
       "      <td>banner</td>\n",
       "      <td>LEoPHuyFvzoNfnzGgfcd</td>\n",
       "      <td>vCIpmpaGBnIQhyYNkXqp</td>\n",
       "      <td>mobile</td>\n",
       "      <td>Huawei</td>\n",
       "      <td>360x720</td>\n",
       "      <td>Chrome</td>\n",
       "      <td>Russia</td>\n",
       "      <td>Zlatoust</td>\n",
       "      <td>0.0</td>\n",
       "      <td>0.0</td>\n",
       "      <td>0.0</td>\n",
       "      <td>1.0</td>\n",
       "      <td>0.0</td>\n",
       "    </tr>\n",
       "    <tr>\n",
       "      <th>1</th>\n",
       "      <td>905544597018549464.1636867290.1636867290</td>\n",
       "      <td>210838531.1636867288</td>\n",
       "      <td>2021-11-14</td>\n",
       "      <td>08:21:30</td>\n",
       "      <td>1</td>\n",
       "      <td>MvfHsxITijuriZxsqZqt</td>\n",
       "      <td>cpm</td>\n",
       "      <td>FTjNLDyTrXaWYgZymFkV</td>\n",
       "      <td>xhoenQgDQsgfEPYNPwKO</td>\n",
       "      <td>mobile</td>\n",
       "      <td>Samsung</td>\n",
       "      <td>385x854</td>\n",
       "      <td>Samsung Internet</td>\n",
       "      <td>Russia</td>\n",
       "      <td>Moscow</td>\n",
       "      <td>0.0</td>\n",
       "      <td>0.0</td>\n",
       "      <td>0.0</td>\n",
       "      <td>1.0</td>\n",
       "      <td>0.0</td>\n",
       "    </tr>\n",
       "    <tr>\n",
       "      <th>2</th>\n",
       "      <td>9055446045651783499.1640648526.1640648526</td>\n",
       "      <td>2108385331.1640648523</td>\n",
       "      <td>2021-12-28</td>\n",
       "      <td>02:42:06</td>\n",
       "      <td>1</td>\n",
       "      <td>ZpYIoDJMcFzVoPFsHGJL</td>\n",
       "      <td>banner</td>\n",
       "      <td>LEoPHuyFvzoNfnzGgfcd</td>\n",
       "      <td>vCIpmpaGBnIQhyYNkXqp</td>\n",
       "      <td>mobile</td>\n",
       "      <td>Huawei</td>\n",
       "      <td>360x720</td>\n",
       "      <td>Chrome</td>\n",
       "      <td>Russia</td>\n",
       "      <td>Krasnoyarsk</td>\n",
       "      <td>0.0</td>\n",
       "      <td>0.0</td>\n",
       "      <td>0.0</td>\n",
       "      <td>1.0</td>\n",
       "      <td>0.0</td>\n",
       "    </tr>\n",
       "    <tr>\n",
       "      <th>3</th>\n",
       "      <td>9055447046360770272.1622255328.1622255328</td>\n",
       "      <td>2108385564.1622255328</td>\n",
       "      <td>2021-05-29</td>\n",
       "      <td>05:00:00</td>\n",
       "      <td>1</td>\n",
       "      <td>kjsLglQLzykiRbcDiGcD</td>\n",
       "      <td>cpc</td>\n",
       "      <td>LTuZkdKfxRGVceoWkVyg</td>\n",
       "      <td>NOBKLgtuvqYWkXQHeYWM</td>\n",
       "      <td>mobile</td>\n",
       "      <td>Xiaomi</td>\n",
       "      <td>393x786</td>\n",
       "      <td>Chrome</td>\n",
       "      <td>Russia</td>\n",
       "      <td>Moscow</td>\n",
       "      <td>0.0</td>\n",
       "      <td>0.0</td>\n",
       "      <td>0.0</td>\n",
       "      <td>1.0</td>\n",
       "      <td>0.0</td>\n",
       "    </tr>\n",
       "    <tr>\n",
       "      <th>4</th>\n",
       "      <td>9055447046360770272.1622255345.1622255345</td>\n",
       "      <td>2108385564.1622255328</td>\n",
       "      <td>2021-05-29</td>\n",
       "      <td>05:00:00</td>\n",
       "      <td>2</td>\n",
       "      <td>kjsLglQLzykiRbcDiGcD</td>\n",
       "      <td>cpc</td>\n",
       "      <td>LTuZkdKfxRGVceoWkVyg</td>\n",
       "      <td>JNHcPlZPxEMWDnRiyoBf</td>\n",
       "      <td>mobile</td>\n",
       "      <td>Xiaomi</td>\n",
       "      <td>393x786</td>\n",
       "      <td>Chrome</td>\n",
       "      <td>Russia</td>\n",
       "      <td>Moscow</td>\n",
       "      <td>0.0</td>\n",
       "      <td>0.0</td>\n",
       "      <td>0.0</td>\n",
       "      <td>1.0</td>\n",
       "      <td>0.0</td>\n",
       "    </tr>\n",
       "  </tbody>\n",
       "</table>\n",
       "</div>"
      ],
      "text/plain": [
       "                                  session_id              client_id  \\\n",
       "0  9055434745589932991.1637753792.1637753792  2108382700.1637753791   \n",
       "1   905544597018549464.1636867290.1636867290   210838531.1636867288   \n",
       "2  9055446045651783499.1640648526.1640648526  2108385331.1640648523   \n",
       "3  9055447046360770272.1622255328.1622255328  2108385564.1622255328   \n",
       "4  9055447046360770272.1622255345.1622255345  2108385564.1622255328   \n",
       "\n",
       "   visit_date visit_time  visit_number            utm_source utm_medium  \\\n",
       "0  2021-11-24   14:36:32             1  ZpYIoDJMcFzVoPFsHGJL     banner   \n",
       "1  2021-11-14   08:21:30             1  MvfHsxITijuriZxsqZqt        cpm   \n",
       "2  2021-12-28   02:42:06             1  ZpYIoDJMcFzVoPFsHGJL     banner   \n",
       "3  2021-05-29   05:00:00             1  kjsLglQLzykiRbcDiGcD        cpc   \n",
       "4  2021-05-29   05:00:00             2  kjsLglQLzykiRbcDiGcD        cpc   \n",
       "\n",
       "           utm_campaign         utm_adcontent device_category device_brand  \\\n",
       "0  LEoPHuyFvzoNfnzGgfcd  vCIpmpaGBnIQhyYNkXqp          mobile       Huawei   \n",
       "1  FTjNLDyTrXaWYgZymFkV  xhoenQgDQsgfEPYNPwKO          mobile      Samsung   \n",
       "2  LEoPHuyFvzoNfnzGgfcd  vCIpmpaGBnIQhyYNkXqp          mobile       Huawei   \n",
       "3  LTuZkdKfxRGVceoWkVyg  NOBKLgtuvqYWkXQHeYWM          mobile       Xiaomi   \n",
       "4  LTuZkdKfxRGVceoWkVyg  JNHcPlZPxEMWDnRiyoBf          mobile       Xiaomi   \n",
       "\n",
       "  device_screen_resolution    device_browser geo_country     geo_city  \\\n",
       "0                  360x720            Chrome      Russia     Zlatoust   \n",
       "1                  385x854  Samsung Internet      Russia       Moscow   \n",
       "2                  360x720            Chrome      Russia  Krasnoyarsk   \n",
       "3                  393x786            Chrome      Russia       Moscow   \n",
       "4                  393x786            Chrome      Russia       Moscow   \n",
       "\n",
       "   target_actions   CR  device_category_desktop  device_category_mobile  \\\n",
       "0             0.0  0.0                      0.0                     1.0   \n",
       "1             0.0  0.0                      0.0                     1.0   \n",
       "2             0.0  0.0                      0.0                     1.0   \n",
       "3             0.0  0.0                      0.0                     1.0   \n",
       "4             0.0  0.0                      0.0                     1.0   \n",
       "\n",
       "   device_category_tablet  \n",
       "0                     0.0  \n",
       "1                     0.0  \n",
       "2                     0.0  \n",
       "3                     0.0  \n",
       "4                     0.0  "
      ]
     },
     "execution_count": 77,
     "metadata": {},
     "output_type": "execute_result"
    }
   ],
   "source": [
    "sessions_1.head()"
   ]
  },
  {
   "cell_type": "code",
   "execution_count": 23,
   "id": "293ac718-f440-444c-9b56-462f54318454",
   "metadata": {},
   "outputs": [
    {
     "data": {
      "text/plain": [
       "(device_category_mobile     1.0\n",
       " device_category_desktop    0.0\n",
       " dtype: float64,\n",
       " device_category_mobile     1.0\n",
       " device_category_desktop    0.0\n",
       " dtype: float64)"
      ]
     },
     "execution_count": 23,
     "metadata": {},
     "output_type": "execute_result"
    }
   ],
   "source": [
    "def calculate_outliers(data):\n",
    "    q25 = data.quantile(0.25)\n",
    "    q75 = data.quantile(0.75)\n",
    "    iqr = q75 - q25\n",
    "    boundaries = (q25 - 1.5*iqr, q75 + 1.5*iqr)\n",
    "    return boundaries\n",
    "boundaries = calculate_outliers(sessions_1[['device_category_mobile', 'device_category_desktop']])\n",
    "boundaries"
   ]
  },
  {
   "cell_type": "code",
   "execution_count": 24,
   "id": "5a178b0c-9820-4f4e-a095-6e8efd4b080b",
   "metadata": {},
   "outputs": [
    {
     "name": "stderr",
     "output_type": "stream",
     "text": [
      "/var/folders/v7/htyd58cd6rb3h4p9l73slr8w0000gn/T/ipykernel_6805/1907952865.py:2: FutureWarning: Automatic reindexing on DataFrame vs Series comparisons is deprecated and will raise ValueError in a future version. Do `left, right = left.align(right, axis=1, copy=False)` before e.g. `left == right`\n",
      "  is_outlier = (sessions_1[['device_category_mobile']] < boundaries[0]) | (sessions_1[['device_category_mobile']] > boundaries[1])\n",
      "/var/folders/v7/htyd58cd6rb3h4p9l73slr8w0000gn/T/ipykernel_6805/1907952865.py:2: FutureWarning: Automatic reindexing on DataFrame vs Series comparisons is deprecated and will raise ValueError in a future version. Do `left, right = left.align(right, axis=1, copy=False)` before e.g. `left == right`\n",
      "  is_outlier = (sessions_1[['device_category_mobile']] < boundaries[0]) | (sessions_1[['device_category_mobile']] > boundaries[1])\n"
     ]
    },
    {
     "data": {
      "text/plain": [
       "770342"
      ]
     },
     "execution_count": 24,
     "metadata": {},
     "output_type": "execute_result"
    }
   ],
   "source": [
    "# выбросы\n",
    "is_outlier = (sessions_1[['device_category_mobile']] < boundaries[0]) | (sessions_1[['device_category_mobile']] > boundaries[1])\n",
    "is_outlier['device_category_mobile'].sum()\n"
   ]
  },
  {
   "cell_type": "code",
   "execution_count": 25,
   "id": "10aadb5d-b1a1-4c2a-b67a-c4dfaa6a68c4",
   "metadata": {},
   "outputs": [
    {
     "name": "stdout",
     "output_type": "stream",
     "text": [
      "Общее кол-во выбросов в device_category_mobile: 0\n"
     ]
    },
    {
     "name": "stderr",
     "output_type": "stream",
     "text": [
      "/var/folders/v7/htyd58cd6rb3h4p9l73slr8w0000gn/T/ipykernel_6805/331713441.py:3: FutureWarning: Automatic reindexing on DataFrame vs Series comparisons is deprecated and will raise ValueError in a future version. Do `left, right = left.align(right, axis=1, copy=False)` before e.g. `left == right`\n",
      "  is_outlier = (sessions_2[['device_category_mobile']] < boundaries[0]) | (sessions_2[['device_category_mobile']] > boundaries[1])\n",
      "/var/folders/v7/htyd58cd6rb3h4p9l73slr8w0000gn/T/ipykernel_6805/331713441.py:3: FutureWarning: Automatic reindexing on DataFrame vs Series comparisons is deprecated and will raise ValueError in a future version. Do `left, right = left.align(right, axis=1, copy=False)` before e.g. `left == right`\n",
      "  is_outlier = (sessions_2[['device_category_mobile']] < boundaries[0]) | (sessions_2[['device_category_mobile']] > boundaries[1])\n"
     ]
    }
   ],
   "source": [
    "sessions_2 = sessions_1.copy()\n",
    "sessions_2 = sessions_2[~is_outlier]\n",
    "is_outlier = (sessions_2[['device_category_mobile']] < boundaries[0]) | (sessions_2[['device_category_mobile']] > boundaries[1])\n",
    "print('Общее кол-во выбросов в device_category_mobile:', is_outlier['device_category_mobile'].sum())"
   ]
  },
  {
   "cell_type": "code",
   "execution_count": null,
   "id": "fcf92486-508d-4d0c-bd54-32d80c24f779",
   "metadata": {},
   "outputs": [],
   "source": []
  },
  {
   "cell_type": "markdown",
   "id": "434e4ad2-c81b-4283-8826-1212832e68c7",
   "metadata": {
    "jp-MarkdownHeadingCollapsed": true,
    "tags": []
   },
   "source": [
    "### проверяем гипотезы"
   ]
  },
  {
   "cell_type": "code",
   "execution_count": 64,
   "id": "56e1d91c-6c60-4c43-9f74-b3fce73059e1",
   "metadata": {},
   "outputs": [],
   "source": [
    "# Нулевая гипотеза (H0): Нет разницы в коэффициенте конверсии между \n",
    "# органическим и платным трафиком.\n",
    "# Альтернативная гипотеза (H1): Существует разница в конверсии между \n",
    "# органическим и платным трафиком."
   ]
  },
  {
   "cell_type": "code",
   "execution_count": 26,
   "id": "cc8de0d3-a9ce-454c-a1e0-2439bf400579",
   "metadata": {},
   "outputs": [],
   "source": [
    "organic_traffic = sessions_2[sessions_2['utm_medium'] == 'organic']\n",
    "paid_traffic = sessions_2[sessions_2['utm_medium'] == 'paid']"
   ]
  },
  {
   "cell_type": "code",
   "execution_count": 27,
   "id": "9238e09f-4360-4be3-8f9b-9b49d06a9953",
   "metadata": {},
   "outputs": [
    {
     "name": "stdout",
     "output_type": "stream",
     "text": [
      "Не удалось отвергнуть нулевую гипотезу: Нет значимой разницы в конверсии между органическим и платным трафиком.\n"
     ]
    }
   ],
   "source": [
    "# Рассчитываем коэффициент конверсии для органического трафика\n",
    "organic_traffic['CR'] = organic_traffic['target_actions'] / organic_traffic['visit_number']\n",
    "\n",
    "# Рассчитываем коэффициент конверсии для платного трафика\n",
    "paid_traffic['CR'] = paid_traffic['target_actions'] / paid_traffic['visit_number']\n",
    "\n",
    "#  Выполняем t-test\n",
    "t_stat, p_value = ttest_ind(organic_traffic['CR'], paid_traffic['CR'])\n",
    " \n",
    "if p_value < 0.05:\n",
    "    print(\"Отклоняем нулевую гипотезу: Существует значительная разница в коэффициенте конверсии между органическим и платным трафиком.\")\n",
    "else:\n",
    "    print(\"Не удалось отвергнуть нулевую гипотезу: Нет значимой разницы в конверсии между органическим и платным трафиком.\")\n",
    "    \n",
    "\n",
    " "
   ]
  },
  {
   "cell_type": "code",
   "execution_count": 28,
   "id": "ca02d64b-e3c8-4817-a108-8d5c4c648c4c",
   "metadata": {},
   "outputs": [],
   "source": [
    "# Мы рассчитали коэффициент конверсии для органического и платного трафика, \n",
    "# разделив количество целевых действий на количество посещений.\n",
    "# Затем мы провели t-тест, чтобы сравнить средние значения коэффициентов \n",
    "# конверсии органического и платного трафика.\n",
    "# По итогам принимаем нулевую гипотезу, т.к. нет значимой разницы между\n",
    "# органическим и платным трафиком. \n"
   ]
  },
  {
   "cell_type": "code",
   "execution_count": 29,
   "id": "8184f1bf-b879-40a5-b7a7-777f73ec4817",
   "metadata": {},
   "outputs": [
    {
     "name": "stdout",
     "output_type": "stream",
     "text": [
      "Не удается отвергнуть нулевую гипотезу: Нет существенной разницы в коэффициенте конверсии между мобильным и десктопным трафиком.\n"
     ]
    }
   ],
   "source": [
    "mobile_traffic = sessions_2[sessions_2['device_category'] == 'device_category_mobile']\n",
    "desktop_traffic = sessions_2[sessions_2['device_category'] == 'device_category_desktop']\n",
    "\n",
    "# Выполняем t-test\n",
    "t_stat, p_value = ttest_ind(mobile_traffic['CR'], desktop_traffic['CR'])\n",
    "\n",
    "if p_value < 0.05:\n",
    "    print(\"Отклоняем нулевую гипотезу: Существует значительная разница в коэффициенте конверсии между мобильным и десктопным трафиком.\")\n",
    "else:\n",
    "    print(\"Не удается отвергнуть нулевую гипотезу: Нет существенной разницы в коэффициенте конверсии между мобильным и десктопным трафиком.\")"
   ]
  },
  {
   "cell_type": "code",
   "execution_count": 30,
   "id": "c5365e7d-94cf-40ef-bcfe-39d45a78a106",
   "metadata": {},
   "outputs": [
    {
     "name": "stdout",
     "output_type": "stream",
     "text": [
      "Не удается отвергнуть нулевую гипотезу: Нет значимой разницы в коэффициенте конверсии между трафиком из Москвы/Санкт-Петербурга и других регионов.\n"
     ]
    }
   ],
   "source": [
    "moscow_petersburg_traffic = sessions_2[sessions_2['geo_city'].isin(['Moscow', 'St. Petersburg'])]\n",
    "other_regions_traffic = sessions_2[sessions_2['geo_city'].isin(['Moscow', 'St. Petersburg'])]\n",
    "\n",
    "# Выполняем t-test\n",
    "t_stat, p_value = ttest_ind(moscow_petersburg_traffic['CR'], other_regions_traffic['CR'])\n",
    "\n",
    "if p_value < 0.05:\n",
    "    print(\"Отклоняем нулевую гипотезу: Существует значительная разница в коэффициенте конверсии между трафиком из Москвы/Санкт-Петербурга и других регионов.\")\n",
    "else:\n",
    "    print(\"Не удается отвергнуть нулевую гипотезу: Нет значимой разницы в коэффициенте конверсии между трафиком из Москвы/Санкт-Петербурга и других регионов.\")"
   ]
  },
  {
   "cell_type": "markdown",
   "id": "812a56ec-aab4-4afe-b62d-e60798c0e2cc",
   "metadata": {
    "tags": []
   },
   "source": [
    "### Из каких источников / кампаний / устройств / локаций к нам идёт самый целевой трафик \n",
    "### (и с точки зрения объёма трафика, и с точки зрения CR)?"
   ]
  },
  {
   "cell_type": "code",
   "execution_count": 42,
   "id": "97f00ae3-d6d0-4922-999e-b5cf1a188adb",
   "metadata": {},
   "outputs": [
    {
     "name": "stdout",
     "output_type": "stream",
     "text": [
      "Общий объем целевого трафика компаний: 3720084\n",
      "Общая конверсия компаний: 0.1105802987244374\n"
     ]
    }
   ],
   "source": [
    "# Подсчет общего целевого трафика и конверсии для компаний\n",
    "total_targeted_traffic = company_data['traffic_volume'].sum()\n",
    "total_company_conversion = (company_data['total_target_actions'].sum() / total_targeted_traffic)\n",
    "\n",
    "print(\"Общий объем целевого трафика компаний:\", total_targeted_traffic)\n",
    "print(\"Общая конверсия компаний:\", total_company_conversion)\n"
   ]
  },
  {
   "cell_type": "code",
   "execution_count": 41,
   "id": "9ea08882-c07e-44d7-8c85-3a4e8a2d14bc",
   "metadata": {},
   "outputs": [
    {
     "name": "stdout",
     "output_type": "stream",
     "text": [
      "Компания с наибольшим трафиком: LTuZkdKfxRGVceoWkVyg\n",
      "Объем трафика: 1366168\n",
      "\n",
      "Каомпания с наибольшей конверсией: LTuZkdKfxRGVceoWkVyg\n",
      "Объем конверсии: 217176.0\n"
     ]
    }
   ],
   "source": [
    "# компания с наибольшим трафиком\n",
    "company_most_traffic = company_data.loc[company_data['traffic_volume'].idxmax(), 'utm_campaign']\n",
    "most_traffic_volume = company_data['traffic_volume'].max()\n",
    "\n",
    "# компания с наибольшей конверсией\n",
    "company_most_conversions = company_data.loc[company_data['total_target_actions'].idxmax(), 'utm_campaign']\n",
    "most_conversions = company_data['total_target_actions'].max()\n",
    "\n",
    "print(\"Компания с наибольшим трафиком:\", company_most_traffic)\n",
    "print(\"Объем трафика:\", most_traffic_volume)\n",
    "print(\"\\nКаомпания с наибольшей конверсией:\", company_most_conversions)\n",
    "print(\"Объем конверсии:\", most_conversions)\n",
    "\n"
   ]
  },
  {
   "cell_type": "code",
   "execution_count": 65,
   "id": "667bacda-930d-48be-b942-b0766f82a654",
   "metadata": {},
   "outputs": [
    {
     "name": "stdout",
     "output_type": "stream",
     "text": [
      "Устройство с наибольшим трафиком: mobile\n",
      "\n",
      "Устройство с самой высокой конверсией: mobile\n"
     ]
    }
   ],
   "source": [
    "# общее количество целевого трафика и конверсии для устройств\n",
    "device_traffic_conversion = sessions_1.groupby('device_category').agg(total_traffic=('session_id', 'count'), total_conversions=('target_actions',\n",
    "                                                                                                                                'sum')).reset_index()\n",
    "device_highest_traffic = device_traffic_conversion.loc[device_traffic_conversion['total_traffic'].idxmax(), 'device_category']\n",
    "device_highest_conversion = device_traffic_conversion.loc[device_traffic_conversion['total_conversions'].idxmax(), 'device_category']\n",
    "\n",
    "print(\"Устройство с наибольшим трафиком:\", device_highest_traffic)\n",
    "print(\"\\nУстройство с самой высокой конверсией:\", device_highest_conversion)\n",
    "\n"
   ]
  },
  {
   "cell_type": "code",
   "execution_count": 63,
   "id": "d66a930b-3fb7-4b91-a991-66044b9267f8",
   "metadata": {},
   "outputs": [
    {
     "name": "stdout",
     "output_type": "stream",
     "text": [
      "Локация с наибольшим объемом трафика: Russia - Moscow\n",
      "\n",
      "Локация с наибольшей конверсии: Russia - Moscow\n"
     ]
    }
   ],
   "source": [
    "# место с наибольшим трафиком и место с наибольшей конверсией\n",
    "location_traffic_conversion = sessions_1.groupby(['geo_country', 'geo_city']).agg(total_traffic=('session_id', 'count'),\n",
    "                                                                                  total_conversions=('target_actions', 'sum')).reset_index()\n",
    "location_highest_traffic = location_traffic_conversion.loc[location_traffic_conversion['total_traffic'].idxmax(), ['geo_country', 'geo_city']]\n",
    "location_highest_conversion = location_traffic_conversion.loc[location_traffic_conversion['total_conversions'].idxmax(), ['geo_country', 'geo_city']]\n",
    "\n",
    "print(\"Локация с наибольшим объемом трафика:\", location_highest_traffic['geo_country'], \"-\", location_highest_traffic['geo_city'])\n",
    "print(\"\\nЛокация с наибольшей конверсии:\", location_highest_conversion['geo_country'], \"-\", location_highest_conversion['geo_city'])\n",
    "\n"
   ]
  },
  {
   "cell_type": "code",
   "execution_count": 62,
   "id": "0899fcbe-a725-48f6-b486-bf613238f00f",
   "metadata": {},
   "outputs": [
    {
     "name": "stdout",
     "output_type": "stream",
     "text": [
      "Источник с наибольшим трафиком: ZpYIoDJMcFzVoPFsHGJL\n",
      "\n",
      "Источник с самой высокой конверсией: ZpYIoDJMcFzVoPFsHGJL\n"
     ]
    }
   ],
   "source": [
    "# количество целевого трафика и конверсий для источника\n",
    "source_traffic_conversion = sessions_1.groupby('utm_source').agg(total_traffic=('session_id', 'count'), total_conversions=('target_actions',\n",
    "                                                                                                                           'sum')).reset_index()\n",
    "source_highest_traffic = source_traffic_conversion.loc[source_traffic_conversion['total_traffic'].idxmax(), 'utm_source']\n",
    "source_highest_conversion = source_traffic_conversion.loc[source_traffic_conversion['total_conversions'].idxmax(), 'utm_source']\n",
    "\n",
    "print(\"Источник с наибольшим трафиком:\", source_highest_traffic)\n",
    "print(\"\\nИсточник с самой высокой конверсией:\", source_highest_conversion)\n",
    "\n"
   ]
  },
  {
   "cell_type": "code",
   "execution_count": null,
   "id": "3dfb7f68-5d0a-424e-83db-d687a50b91f5",
   "metadata": {},
   "outputs": [],
   "source": []
  },
  {
   "cell_type": "markdown",
   "id": "42f91bea-db9f-48be-9f59-d96de09a0ecc",
   "metadata": {
    "tags": []
   },
   "source": [
    "### Какие авто пользуются наибольшим спросом? \n",
    "### У каких авто самый лучший показатель CR (Conversion Rate) в целевые события?"
   ]
  },
  {
   "cell_type": "code",
   "execution_count": 166,
   "id": "e424fd55-5951-4cb0-b399-4820f5a932cb",
   "metadata": {},
   "outputs": [
    {
     "name": "stdout",
     "output_type": "stream",
     "text": [
      "Автомобиль с наибольшим количеством трафика: skoda\n",
      "Автомобиль с наилучшей конверсией: hyundai\n"
     ]
    }
   ],
   "source": [
    "# Извлечение информации о марке и модели автомобиля из 'hit_page_path'\n",
    "hits[['brand', 'model']] = hits['hit_page_path'].str.extract(r'sberauto\\.com/cars/all/(\\w+)/(\\w+)/')\n",
    "\n",
    "# Группировка по маркам и моделям автомобилей для расчета объема трафика и коэффициента конверсии\n",
    "car_traffic_volume = hits.groupby('brand').size().reset_index(name='traffic_volume')\n",
    "car_conversion_rate = hits[hits['event_action'].isin(['sub_car_claim_click', 'sub_car_claim_submit_click', 'sub_open_dialog_click',\n",
    "                                                      'sub_custom_question_submit_click', 'sub_call_number_click',\n",
    "                                                      'sub_callback_submit_click', 'sub_submit_success',\n",
    "                                                      'sub_car_request_submit_click'])].groupby('brand').size() / hits.groupby('brand').size()\n",
    "car_conversion_rate = car_conversion_rate.reset_index(name='conversion_rate')\n",
    "\n",
    "# Поиск автомобиля с наибольшим трафиком\n",
    "max_traffic_car = car_traffic_volume.loc[car_traffic_volume['traffic_volume'].idxmax(), 'brand']\n",
    "print(\"Автомобиль с наибольшим количеством трафика:\", max_traffic_car)\n",
    "\n",
    "# Поиск автомобиля с наилучшим коэффициентом конверсии\n",
    "best_conversion_car = car_conversion_rate.loc[car_conversion_rate['conversion_rate'].idxmax(), 'brand']\n",
    "print(\"Автомобиль с наилучшей конверсией:\", best_conversion_car)\n"
   ]
  },
  {
   "cell_type": "code",
   "execution_count": null,
   "id": "fd5b1784-0811-44a3-837f-273f543ab8e1",
   "metadata": {},
   "outputs": [],
   "source": []
  },
  {
   "cell_type": "markdown",
   "id": "ad6e15c4-bf2f-4965-b390-e3e6e97ded01",
   "metadata": {
    "tags": []
   },
   "source": [
    "### Стоит ли нам увеличивать своё присутствие в соцсетях и давать там больше рекламы?"
   ]
  },
  {
   "cell_type": "code",
   "execution_count": 66,
   "id": "08c7efa4-99f3-4218-bf2c-dcb5bb9ea64a",
   "metadata": {},
   "outputs": [
    {
     "name": "stdout",
     "output_type": "stream",
     "text": [
      "Объем трафика из социальных сетей:\n",
      "             utm_source  traffic_volume\n",
      "0  ISrKoXQCxqqYvAZICvjs           17266\n",
      "1  IZEXUFLARCUMynmHNBGo            8842\n",
      "2  MvfHsxITijuriZxsqZqt          372398\n",
      "3  PlbkrSYoHuZBWfYjYnfw           41584\n",
      "4  QxAxdyPLuQMEcrdZWdWb          102830\n",
      "5  gVRrcxiDQubJiljoTbGm            5534\n",
      "\n",
      "Коэффициент конверсии из социальных сетей: 0.042659084698017616\n"
     ]
    }
   ],
   "source": [
    "# Фильтруем данные о сеансах для источников рекламы в социальных сетях\n",
    "social_media_sessions = sessions_1[sessions_1['utm_source'].isin(['QxAxdyPLuQMEcrdZWdWb', 'MvfHsxITijuriZxsqZqt', 'ISrKoXQCxqqYvAZICvjs',\n",
    "                                                                  'IZEXUFLARCUMynmHNBGo', 'PlbkrSYoHuZBWfYjYnfw', 'gVRrcxiDQubJiljoTbGm'])]\n",
    "\n",
    "# Рассчитываем объем трафика и коэффициент конверсии для сессий в социальных сетях\n",
    "social_media_traffic_volume = social_media_sessions.groupby('utm_source').size().reset_index(name='traffic_volume')\n",
    "social_media_conversion_rate = social_media_sessions['target_actions'].sum() / social_media_sessions['visit_number'].sum()\n",
    "\n",
    "print(\"Объем трафика из социальных сетей:\")\n",
    "print(social_media_traffic_volume)\n",
    "\n",
    "print(\"\\nКоэффициент конверсии из социальных сетей:\", social_media_conversion_rate)\n",
    "\n"
   ]
  },
  {
   "cell_type": "code",
   "execution_count": null,
   "id": "dce0f1ba-d0bb-41f1-a531-9751faa05460",
   "metadata": {},
   "outputs": [],
   "source": [
    "# Для того, чтобы ответить надо или нет увеличивать присутствие в соцсетях и давать там \n",
    "# больше рекламы - надо понять какие затраты есть на это. \n",
    "# Если исходить только из конверсии, то она достаточно низкая, а значит пользы от соцсетей мало.\n",
    "# Чтобы увеличить конверсию, то да надо увеличивать рекламу в соцсетях"
   ]
  },
  {
   "cell_type": "code",
   "execution_count": null,
   "id": "7b64b002-3569-4adf-831e-a4a01a897936",
   "metadata": {},
   "outputs": [],
   "source": []
  },
  {
   "cell_type": "code",
   "execution_count": null,
   "id": "f06b2938-2835-43a9-b3f8-74549baacec3",
   "metadata": {},
   "outputs": [],
   "source": []
  },
  {
   "cell_type": "code",
   "execution_count": null,
   "id": "1f32e4a5-a196-46a9-8346-16174905180d",
   "metadata": {},
   "outputs": [],
   "source": []
  },
  {
   "cell_type": "code",
   "execution_count": null,
   "id": "c6d28832-0681-42e5-9421-f565ea65b64e",
   "metadata": {},
   "outputs": [],
   "source": []
  },
  {
   "cell_type": "code",
   "execution_count": null,
   "id": "195adba1-7b5f-4b4b-87f3-1bbbda0c5a81",
   "metadata": {},
   "outputs": [],
   "source": []
  },
  {
   "cell_type": "code",
   "execution_count": null,
   "id": "7d61f2aa-f488-420f-b0dd-aa432c27d01e",
   "metadata": {},
   "outputs": [],
   "source": []
  },
  {
   "cell_type": "code",
   "execution_count": null,
   "id": "702eb245-c3c2-4989-8b10-649f5c89901e",
   "metadata": {},
   "outputs": [],
   "source": []
  },
  {
   "cell_type": "code",
   "execution_count": null,
   "id": "43b31eff-83da-4892-90d2-10adb9c90f98",
   "metadata": {},
   "outputs": [],
   "source": []
  },
  {
   "cell_type": "code",
   "execution_count": null,
   "id": "b97c3a9d-11a9-4e51-93b6-12f7beb294ae",
   "metadata": {},
   "outputs": [],
   "source": []
  }
 ],
 "metadata": {
  "kernelspec": {
   "display_name": "Python 3 (ipykernel)",
   "language": "python",
   "name": "python3"
  },
  "language_info": {
   "codemirror_mode": {
    "name": "ipython",
    "version": 3
   },
   "file_extension": ".py",
   "mimetype": "text/x-python",
   "name": "python",
   "nbconvert_exporter": "python",
   "pygments_lexer": "ipython3",
   "version": "3.9.13"
  }
 },
 "nbformat": 4,
 "nbformat_minor": 5
}
